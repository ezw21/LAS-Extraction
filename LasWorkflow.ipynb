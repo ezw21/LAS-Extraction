{
 "cells": [
  {
   "cell_type": "code",
   "execution_count": 1,
   "metadata": {},
   "outputs": [],
   "source": [
    "import arcpy"
   ]
  },
  {
   "cell_type": "code",
   "execution_count": null,
   "metadata": {},
   "outputs": [],
   "source": [
    "#  To create Elevation Node points ( bulge elevation )\n",
    "\n",
    "arcpy.management.LasPointStatsAsRaster(\"UniSmall.las\", \n",
    "                                       r\"c:\\Users\\exw\\documents\\ArcGIS\\Projects\\las_workflow\\las_workflow.gdb\\ElevationRas\",\n",
    "                                       \"Z_RANGE\", \"CELLSIZE\", 0.67)\n",
    "arcpy.conversion.RasterToPoint(\"ElevationRas\", \n",
    "                               r\"C:\\Users\\exw\\Documents\\ArcGIS\\Projects\\LAS_Workflow\\LAS_Workflow.gdb\\ElevationPoints\", \n",
    "                               \"Value\")\n",
    "arcpy.conversion.FeatureClassToFeatureClass(\"ElevationPoints\", \n",
    "                                            r\"C:\\Users\\exw\\Documents\\ArcGIS\\Projects\\LAS_Workflow\\LAS_Workflow.gdb\", \n",
    "                                            \"ElevationPointsFiltered\", \"grid_code >= 1\", 'pointid \"pointid\" true true false 4 Long 0 0,First,#,ElevationPoints,pointid,-1,-1;grid_code \"grid_code\" true true false 4 Float 0 0,First,#,ElevationPoints,grid_code,-1,-1', '')"
   ]
  },
  {
   "cell_type": "code",
   "execution_count": null,
   "metadata": {},
   "outputs": [],
   "source": [
    "#  To create Elevation Bone points ( sunken elevation and roof bone structure )\n",
    "\n",
    "arcpy.management.LasPointStatsAsRaster(\"UniSmall.las\", \n",
    "                                       r\"c:\\Users\\exw\\documents\\ArcGIS\\Projects\\las_workflow\\las_workflow.gdb\\PointRaster\", \n",
    "                                       \"POINT_COUNT\", \"CELLSIZE\", 1)\n",
    "\n",
    "# Raster function (GreaterThanEqual 16) > (SetNull Raster vs 1)\n",
    "# (See PointsMasked RasterFunction Chain)\n",
    "\n",
    "arcpy.conversion.RasterToPoint(\"PointsMasked\", \n",
    "                               r\"C:\\Users\\exw\\Documents\\ArcGIS\\Projects\\LAS_Workflow\\LAS_Workflow.gdb\\MaskedPoints\", \n",
    "                               \"Value\")"
   ]
  },
  {
   "cell_type": "code",
   "execution_count": null,
   "metadata": {},
   "outputs": [],
   "source": [
    "#  To create Corner points ( Putline Componenets corner) - require footprints\n",
    "\n",
    "arcpy.management.PolygonToLine(\"Uni_Small_Footprints\", \n",
    "                               r\"C:\\Users\\exw\\Documents\\ArcGIS\\Projects\\LAS_Workflow\\LAS_Workflow.gdb\\Uni_Small_FootprintsLine\", \n",
    "                               \"IDENTIFY_NEIGHBORS\")\n",
    "arcpy.management.GeneratePointsAlongLines(\"Uni_Small_FootprintsLine\", \n",
    "                                          r\"C:\\Users\\exw\\Documents\\ArcGIS\\Projects\\LAS_Workflow\\LAS_Workflow.gdb\\Uni_Small_FootprintsLPoints\", \n",
    "                                          \"DISTANCE\", \"0.5 Unknown\", None, \"END_POINTS\")"
   ]
  },
  {
   "cell_type": "code",
   "execution_count": null,
   "metadata": {},
   "outputs": [],
   "source": [
    "# More steps.. repetitive (TODO write the code)\n",
    "# You will have 3 points fc - Node, Bone, Corner\n",
    "# Aggregate Node and Corner for 2m seperately, Bone for 4m\n",
    "# To densify your points ( Data sanitizing and Densifying)\n",
    "#     Polygon > generateAlongLines > Lines to Points > aggregate\n",
    "\n",
    "# Merge all 3 points fc > pairwise buffer 0.25m or cell size(0.33m)\n",
    "# Smooth polygon (tolerance=2)\n",
    "# Erase with Footprints\n",
    "# Regularize - AnyAngle T=1, P=0.25 (align with footprints)"
   ]
  },
  {
   "cell_type": "code",
   "execution_count": null,
   "metadata": {},
   "outputs": [],
   "source": []
  },
  {
   "cell_type": "code",
   "execution_count": null,
   "metadata": {},
   "outputs": [],
   "source": []
  },
  {
   "cell_type": "code",
   "execution_count": null,
   "metadata": {},
   "outputs": [],
   "source": []
  }
 ],
 "metadata": {
  "kernelspec": {
   "display_name": "Python 3",
   "language": "python",
   "name": "python3"
  },
  "language_info": {
   "file_extension": ".py",
   "name": "python",
   "version": "3"
  }
 },
 "nbformat": 4,
 "nbformat_minor": 2
}
