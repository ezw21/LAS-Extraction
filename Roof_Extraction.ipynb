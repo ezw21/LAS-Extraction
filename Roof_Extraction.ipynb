{
 "cells": [
  {
   "cell_type": "code",
   "execution_count": null,
   "metadata": {},
   "outputs": [],
   "source": [
    "import arcpy"
   ]
  },
  {
   "cell_type": "code",
   "execution_count": 78,
   "metadata": {},
   "outputs": [
    {
     "name": "stdout",
     "output_type": "stream",
     "text": [
      "Extrude Building\n"
     ]
    }
   ],
   "source": [
    "arcpy.ddd.ExtrudeBetween(\"ChurchRoofTin\", \"ChurchGroundTin\", \"Church_Footprint\", \n",
    "                         r\"C:\\Users\\exw\\Documents\\ArcGIS\\Projects\\NZEUC_Demo\\NZEUC_Demo.gdb\\Building\")\n",
    "print(\"Extrude Building\")"
   ]
  },
  {
   "cell_type": "code",
   "execution_count": 79,
   "metadata": {},
   "outputs": [
    {
     "name": "stdout",
     "output_type": "stream",
     "text": [
      "Generate Smooth Building\n"
     ]
    }
   ],
   "source": [
    "arcpy.maritime.SmoothBathymetricTIN(\"ChurchRoofTin\", r\"C:\\Users\\exw\\Documents\\ArcGIS\\Projects\\NZEUC_Demo\\Building_U5\", \"POSITIVE_UP\", 5)\n",
    "arcpy.maritime.SmoothBathymetricTIN(\"Building_U5\", r\"C:\\Users\\exw\\Documents\\ArcGIS\\Projects\\NZEUC_Demo\\Building_U5_D2\", \"POSITIVE_DOWN\", 2)\n",
    "\n",
    "arcpy.ddd.ExtrudeBetween(\"Building_U5\", \"ChurchGroundTin\", \"Church_Footprint\", \n",
    "                         r\"C:\\Users\\exw\\Documents\\ArcGIS\\Projects\\NZEUC_Demo\\NZEUC_Demo.gdb\\Building_Smooth\")\n",
    "print(\"Generate Smooth Building\")"
   ]
  },
  {
   "cell_type": "code",
   "execution_count": 80,
   "metadata": {},
   "outputs": [
    {
     "name": "stdout",
     "output_type": "stream",
     "text": [
      "Extract Building Roof\n"
     ]
    }
   ],
   "source": [
    "arcpy.ddd.InterpolateShape(\"Building_U5_D2\", \"Church_Footprint\", \n",
    "                           r\"C:\\Users\\exw\\Documents\\ArcGIS\\Projects\\NZEUC_Demo\\NZEUC_Demo.gdb\\BuildingShape\", \n",
    "                           None, 1, \"LINEAR\", \"DENSIFY\", 0, \"EXCLUDE\")\n",
    "arcpy.ddd.InterpolatePolyToPatch(\"Building_U5_D2\", \"BuildingShape\", \n",
    "                                 r\"C:\\Users\\exw\\Documents\\ArcGIS\\Projects\\NZEUC_Demo\\NZEUC_Demo.gdb\\BuildingRoof\", \n",
    "                                 1024, 1, \"Area\", \"SArea\", 0)\n",
    "print(\"Extract Building Roof\")"
   ]
  },
  {
   "cell_type": "code",
   "execution_count": null,
   "metadata": {},
   "outputs": [],
   "source": []
  }
 ],
 "metadata": {
  "kernelspec": {
   "display_name": "Python 3",
   "language": "python",
   "name": "python3"
  },
  "language_info": {
   "file_extension": ".py",
   "name": "python",
   "version": "3"
  }
 },
 "nbformat": 4,
 "nbformat_minor": 2
}
